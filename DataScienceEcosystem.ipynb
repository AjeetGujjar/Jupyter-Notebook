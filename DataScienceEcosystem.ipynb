{
 "cells": [
  {
   "cell_type": "code",
   "execution_count": null,
   "id": "65e892d2-f4c4-448f-9346-4581cdedec27",
   "metadata": {},
   "outputs": [],
   "source": []
  },
  {
   "cell_type": "code",
   "execution_count": null,
   "id": "28c89589-3d3d-4894-9450-32dd60688e66",
   "metadata": {},
   "outputs": [],
   "source": []
  },
  {
   "cell_type": "markdown",
   "id": "22273616-c9a5-49b6-9776-e406876fdcb9",
   "metadata": {},
   "source": [
    "# Data Science Tools and Ecosystem #"
   ]
  },
  {
   "cell_type": "markdown",
   "id": "9eb1d633-abf7-4453-a153-07e5a5c6494d",
   "metadata": {},
   "source": [
    "In this notebook, Data Science Tools and Ecosystem are summarized."
   ]
  },
  {
   "cell_type": "markdown",
   "id": "24559f57-b2c8-4dd2-a499-e93240ba93d9",
   "metadata": {
    "tags": []
   },
   "source": [
    "Some of the popular languages that Data Scientists use are:"
   ]
  },
  {
   "cell_type": "markdown",
   "id": "ee3e1df9-a8c9-45d4-891e-ec6625d0fb81",
   "metadata": {},
   "source": [
    "1. Python\n",
    "2. C++\n",
    "3. R"
   ]
  },
  {
   "cell_type": "markdown",
   "id": "527cee10-e70c-466a-9d33-7382bb994e50",
   "metadata": {},
   "source": [
    "Some of the commonly used libraries used by Data Scientists include:"
   ]
  },
  {
   "cell_type": "markdown",
   "id": "83d1282f-de4f-4521-90ee-0f0aa93b38da",
   "metadata": {},
   "source": [
    "1. NumPy\n",
    "2. Pandas\n",
    "3. Matplotlib"
   ]
  },
  {
   "cell_type": "markdown",
   "id": "e34a5b71-ce5b-4929-81fd-a3b68cf691d7",
   "metadata": {},
   "source": [
    "| Data Science Tools |\n",
    "----------------------\n",
    "| Jupyter Notebook   |\n",
    "| VS Code            |\n",
    "| Spyder             |"
   ]
  },
  {
   "cell_type": "markdown",
   "id": "a6a73337-a4ea-4eb4-b6e3-61fc34a271e6",
   "metadata": {},
   "source": [
    "### Below are a few examples of evaluating arithmetic expressions in Python ###"
   ]
  },
  {
   "cell_type": "markdown",
   "id": "6859a139-4951-4cde-9491-5665fb40bf36",
   "metadata": {},
   "source": [
    "This a simple arithmetic expression to mutiply then add integers"
   ]
  },
  {
   "cell_type": "code",
   "execution_count": 4,
   "id": "79b1266c-d8d5-4b92-9250-6a29dbebd27b",
   "metadata": {
    "tags": []
   },
   "outputs": [
    {
     "data": {
      "text/plain": [
       "17"
      ]
     },
     "execution_count": 4,
     "metadata": {},
     "output_type": "execute_result"
    }
   ],
   "source": [
    "(3*4)+5"
   ]
  },
  {
   "cell_type": "markdown",
   "id": "572c4fbe-d868-46d7-be0f-dd74ff0e6741",
   "metadata": {},
   "source": [
    "This will convert 200 minutes to hours by diving by 60"
   ]
  },
  {
   "cell_type": "code",
   "execution_count": 5,
   "id": "32f0dc8a-cfe5-4016-b4e9-ec56aa1dba47",
   "metadata": {
    "tags": []
   },
   "outputs": [
    {
     "data": {
      "text/plain": [
       "3.3333333333333335"
      ]
     },
     "execution_count": 5,
     "metadata": {},
     "output_type": "execute_result"
    }
   ],
   "source": [
    "200/60"
   ]
  },
  {
   "cell_type": "markdown",
   "id": "ddac13f1-7244-4a92-8ea8-a499816bce07",
   "metadata": {},
   "source": [
    "**Objectives:**"
   ]
  },
  {
   "cell_type": "markdown",
   "id": "084cd5ef-3c73-4d14-98d4-f58fc19057da",
   "metadata": {
    "tags": []
   },
   "source": [
    "- List popular languages for Data Science\n",
    "- List commonly used libraries used by Data Scientists\n",
    "- Show examples of evaluating arithmetic expressions in Python"
   ]
  },
  {
   "cell_type": "markdown",
   "id": "daab0248-bcb1-4df0-b150-4edafd76d8fe",
   "metadata": {},
   "source": [
    "## Author ##\n",
    "Ajeet Kumar"
   ]
  },
  {
   "cell_type": "code",
   "execution_count": null,
   "id": "c626d7a7-cfb1-4462-bb8f-625747f79188",
   "metadata": {},
   "outputs": [],
   "source": []
  }
 ],
 "metadata": {
  "kernelspec": {
   "display_name": "Python",
   "language": "python",
   "name": "conda-env-python-py"
  },
  "language_info": {
   "codemirror_mode": {
    "name": "ipython",
    "version": 3
   },
   "file_extension": ".py",
   "mimetype": "text/x-python",
   "name": "python",
   "nbconvert_exporter": "python",
   "pygments_lexer": "ipython3",
   "version": "3.7.12"
  }
 },
 "nbformat": 4,
 "nbformat_minor": 5
}
